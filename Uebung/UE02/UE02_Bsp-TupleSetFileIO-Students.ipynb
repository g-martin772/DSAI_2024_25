{
 "cells": [
  {
   "metadata": {},
   "cell_type": "markdown",
   "source": [
    "## Übungsbeispiel 1 - arbeiten mit CSV-Dateien und Tuplen\n",
    "\n",
    "### Aufgabe \n",
    "Es gilt eine CSV-Datei einzulesen und zu verarbeiten, die verschiedene maschinelle Lernalgorithmen beschreibt. Die Daten sollen dabei in Tupeln gespeichert und anschließend ausgegeben werden.\n",
    "\n",
    "### Gegeben:\n",
    "Eine CSV-Datei namens *algorithmen.csv* mit folgendem Inhalt:\n",
    "\n",
    "````plaintext\n",
    "algorithm,learning,type\n",
    "Linear Regression,Supervised,Regression\n",
    "Logistic Regression,Supervised,Classification\n",
    "RandomForest,Supervised,Regression or Classification\n",
    "k-means,Unsupervised,Clustering\n",
    "````\n",
    "\n",
    "### Ziel:\n",
    "1. Lese die CSV-Datei mit Python ein.\n",
    "2. Speichere die Daten aus der CSV-Datei als Tupel in einer Liste. Jedes Tupel soll den Algorithmus-Namen, den Lernansatz und den Typ speichern.\n",
    "3. Gib alle Tupel in der Konsole aus.\n",
    "4. Filtere die Tupel und gib nur die Algorithmen aus, die unter \"Supervised\" fallen (d.h. der Wert im Feld \"learning\" ist \"Supervised\").\n",
    "\n",
    "Gesuchtes Ergebnis:\n",
    "\n",
    "````python\n",
    "#Alle Algorithmen als Tupel:\n",
    "('Linear Regression', 'Supervised', 'Regression')\n",
    "('Logistic Regression', 'Supervised', 'Classification')\n",
    "('RandomForest', 'Supervised', 'Regression or Classification')\n",
    "('k-means', 'Unsupervised', 'Clustering')\n",
    "\n",
    "#Supervised Algorithmen:\n",
    "('Linear Regression', 'Supervised', 'Regression')\n",
    "('Logistic Regression', 'Supervised', 'Classification')\n",
    "('RandomForest', 'Supervised', 'Regression or Classification')\n",
    "````\n"
   ],
   "id": "3dacdc62"
  },
  {
   "metadata": {
    "ExecuteTime": {
     "end_time": "2024-10-03T15:39:34.877749Z",
     "start_time": "2024-10-03T15:39:34.874012Z"
    }
   },
   "cell_type": "code",
   "source": [
    "data = []\n",
    "\n",
    "with open(\"algorithmen.csv\", \"r\") as file:\n",
    "    file.readline()\n",
    "    lines = file.readlines()\n",
    "    for line in lines:\n",
    "        data.append(tuple(line.strip().split(\",\")))\n",
    "\n",
    "print(\"Alle Algorithmen als Tupel:\")\n",
    "for d in data:\n",
    "    print(d)\n",
    "        \n",
    "supervised = [d for d in data if d[1] == \"Supervised\"]                  \n",
    "\n",
    "print(\"\\nSupervised Algorithmen:\")\n",
    "for d in supervised:\n",
    "    print(d)"
   ],
   "id": "c3ef73a5",
   "outputs": [
    {
     "name": "stdout",
     "output_type": "stream",
     "text": [
      "Alle Algorithmen als Tupel:\n",
      "('Linear Regression', 'Supervised', 'Regression')\n",
      "('Logistic Regression', 'Supervised', 'Classification')\n",
      "('RandomForest', 'Supervised', 'Regression or Classification')\n",
      "('k-means', 'Unsupervised', 'Clustering')\n",
      "\n",
      "Supervised Algorithmen:\n",
      "('Linear Regression', 'Supervised', 'Regression')\n",
      "('Logistic Regression', 'Supervised', 'Classification')\n",
      "('RandomForest', 'Supervised', 'Regression or Classification')\n"
     ]
    }
   ],
   "execution_count": 1
  },
  {
   "cell_type": "markdown",
   "id": "60c6470d",
   "metadata": {},
   "source": [
    "## Übungsbeispiel 2 - arbeiten mit Sets\n",
    "\n",
    "### Aufgabe:\n",
    "Ziel ist es, nachfolgende Liste von Duplikaten zu \"befreien\" und diverse Ausgaben zu erstellen. \n",
    "\n",
    "### Gegeben:\n",
    "Eine Liste von Algorithmen, die einige Duplikate enthält:\n",
    "\n",
    "````python\n",
    "\n",
    "algorithms = [\n",
    "    \"Linear Regression\",\n",
    "    \"Logistic Regression\",\n",
    "    \"RandomForest\",\n",
    "    \"Linear Regression\",  # Duplikat\n",
    "    \"k-means\",\n",
    "    \"Logistic Regression\",  # Duplikat\n",
    "    \"Decision Tree\",\n",
    "    \"RandomForest\"  # Duplikat\n",
    "]\n",
    "````\n",
    "### Ziel:\n",
    "1. Definiere die Liste mit den Algorithmen (wie oben angegeben).\n",
    "2. Entferne die Duplikate automatisch mithilfe des Typs `set`.\n",
    "3. Gib die Anzahl der einzigartigen Algorithmen aus.\n",
    "4. Gib die Menge der einzigartigen Algorithmen aus.\n",
    "\n",
    "Gesuchtes Ergebnis:\n",
    "````python\n",
    "Anzahl der einzigartigen Algorithmen: 5\n",
    "Einzigartige Algorithmen: {'k-means', 'RandomForest', 'Decision Tree', 'Logistic Regression', 'Linear Regression'}\n",
    "````"
   ]
  },
  {
   "cell_type": "code",
   "id": "f5e4f731",
   "metadata": {
    "ExecuteTime": {
     "end_time": "2024-10-03T15:12:57.635559Z",
     "start_time": "2024-10-03T15:12:57.631786Z"
    }
   },
   "source": [
    "algorithms = [\n",
    "    \"Linear Regression\",\n",
    "    \"Logistic Regression\",\n",
    "    \"RandomForest\",\n",
    "    \"Linear Regression\",  # Duplikat\n",
    "    \"k-means\",\n",
    "    \"Logistic Regression\",  # Duplikat\n",
    "    \"Decision Tree\",\n",
    "    \"RandomForest\"  # Duplikat\n",
    "]\n",
    "\n",
    "unique_algorithms = set(algorithms)\n",
    "\n",
    "print(\"Anzahl der einzigartigen Algorithmen:\", len(unique_algorithms))\n",
    "print(\"Einzigartige Algorithmen:\", unique_algorithms)"
   ],
   "outputs": [
    {
     "name": "stdout",
     "output_type": "stream",
     "text": [
      "Anzahl der einzigartigen Algorithmen: 5\n",
      "Einzigartige Algorithmen: {'Logistic Regression', 'RandomForest', 'Decision Tree', 'Linear Regression', 'k-means'}\n"
     ]
    }
   ],
   "execution_count": 4
  }
 ],
 "metadata": {
  "kernelspec": {
   "display_name": "Python 3 (ipykernel)",
   "language": "python",
   "name": "python3"
  },
  "language_info": {
   "codemirror_mode": {
    "name": "ipython",
    "version": 3
   },
   "file_extension": ".py",
   "mimetype": "text/x-python",
   "name": "python",
   "nbconvert_exporter": "python",
   "pygments_lexer": "ipython3",
   "version": "3.11.5"
  }
 },
 "nbformat": 4,
 "nbformat_minor": 5
}
