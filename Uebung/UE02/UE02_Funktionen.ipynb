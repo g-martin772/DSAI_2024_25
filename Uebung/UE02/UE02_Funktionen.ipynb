{
 "cells": [
  {
   "cell_type": "markdown",
   "id": "09001ede",
   "metadata": {},
   "source": [
    "# Funktionen in Python\n",
    "\n",
    "In Python sind Funktionen ein wichtiger Bestandteil der Programmierung, da sie es uns ermöglichen, Code wiederzuverwenden, ihn sauberer zu organisieren und klarer zu strukturieren. In diesem Notebook schauen wir uns an, wie man in Python Funktionen definiert, sie aufruft und praktisch einsetzt.\n",
    "\n",
    "> By the way: Python ist eine \"Multi-Paradigma-Sprache\", was bedeutet, dass man sowohl objektorientiert als auch funktional programmieren kann.\n",
    "\n",
    "\n",
    "## Definition einer Funktion\n",
    "\n",
    "In Python definierst man eine Funktion mit dem Schlüsselwort `def`, gefolgt vom Funktionsnamen und Klammern `()`."
   ]
  },
  {
   "cell_type": "code",
   "id": "9be11ce3",
   "metadata": {
    "ExecuteTime": {
     "end_time": "2024-10-10T14:53:09.958288Z",
     "start_time": "2024-10-10T14:53:09.955775Z"
    }
   },
   "source": [
    "def hello_world():\n",
    "    print(\"Hello, world!\")"
   ],
   "outputs": [],
   "execution_count": 2
  },
  {
   "cell_type": "markdown",
   "id": "d32b8379",
   "metadata": {},
   "source": [
    "Aufruf der Funktion:"
   ]
  },
  {
   "cell_type": "code",
   "id": "13448e25",
   "metadata": {
    "ExecuteTime": {
     "end_time": "2024-10-10T14:53:11.503837Z",
     "start_time": "2024-10-10T14:53:11.501415Z"
    }
   },
   "source": [
    "hello_world()"
   ],
   "outputs": [
    {
     "name": "stdout",
     "output_type": "stream",
     "text": [
      "Hello, world!\n"
     ]
    }
   ],
   "execution_count": 3
  },
  {
   "cell_type": "markdown",
   "id": "3aff06ee",
   "metadata": {},
   "source": [
    "## Funktionen mit Parametern\n",
    "\n",
    "Funktionen können Parameter (auch Argumente genannt) annehmen. Diese Parameter erlauben es, der Funktion Informationen zu übergeben."
   ]
  },
  {
   "cell_type": "code",
   "id": "2c3901fa",
   "metadata": {
    "ExecuteTime": {
     "end_time": "2024-10-10T14:53:36.843922Z",
     "start_time": "2024-10-10T14:53:36.841034Z"
    }
   },
   "source": [
    "def greeting(name):\n",
    "    print(f\"Hello {name}, welcome!\")"
   ],
   "outputs": [],
   "execution_count": 4
  },
  {
   "cell_type": "code",
   "id": "7867c23e",
   "metadata": {
    "ExecuteTime": {
     "end_time": "2024-10-10T14:53:38.946847Z",
     "start_time": "2024-10-10T14:53:38.944694Z"
    }
   },
   "source": [
    "greeting(\"Bill\")"
   ],
   "outputs": [
    {
     "name": "stdout",
     "output_type": "stream",
     "text": [
      "Hello Bill, welcome!\n"
     ]
    }
   ],
   "execution_count": 5
  },
  {
   "cell_type": "markdown",
   "id": "ff8c9d21",
   "metadata": {},
   "source": [
    "## Funktionen mit mehreren Parametern\n",
    "\n",
    "Man kann einer Funktion auch mehrere Parameter übergeben."
   ]
  },
  {
   "cell_type": "code",
   "id": "114334e5",
   "metadata": {
    "ExecuteTime": {
     "end_time": "2024-10-10T14:53:45.311222Z",
     "start_time": "2024-10-10T14:53:45.308038Z"
    }
   },
   "source": [
    "def add(a, b):\n",
    "    result = a + b\n",
    "    print(f\"The sum of {a} and {b} is {result}\")"
   ],
   "outputs": [],
   "execution_count": 6
  },
  {
   "cell_type": "code",
   "id": "b5ca7d63",
   "metadata": {
    "ExecuteTime": {
     "end_time": "2024-10-10T14:53:47.230128Z",
     "start_time": "2024-10-10T14:53:47.227169Z"
    }
   },
   "source": [
    "add(3, 4)"
   ],
   "outputs": [
    {
     "name": "stdout",
     "output_type": "stream",
     "text": [
      "The sum of 3 and 4 is 7\n"
     ]
    }
   ],
   "execution_count": 7
  },
  {
   "cell_type": "markdown",
   "id": "3098f9e2",
   "metadata": {},
   "source": [
    "## Rückgabewerte in Funktionen\n",
    "\n",
    "Oft ist es sinnvoll, dass eine Funktion ein Ergebnis zurückgibt. Dafür wird das bekannte Schlüsselwort `return` verwendet."
   ]
  },
  {
   "cell_type": "code",
   "id": "5864559f",
   "metadata": {
    "ExecuteTime": {
     "end_time": "2024-10-10T14:53:57.536610Z",
     "start_time": "2024-10-10T14:53:57.533736Z"
    }
   },
   "source": [
    "def multiply(a, b):\n",
    "    return a * b"
   ],
   "outputs": [],
   "execution_count": 8
  },
  {
   "cell_type": "code",
   "id": "1d118372",
   "metadata": {
    "ExecuteTime": {
     "end_time": "2024-10-10T14:53:59.356511Z",
     "start_time": "2024-10-10T14:53:59.353553Z"
    }
   },
   "source": [
    "result = multiply(6, 7)\n",
    "print(f\"The result of multiplication is: {result}\")"
   ],
   "outputs": [
    {
     "name": "stdout",
     "output_type": "stream",
     "text": [
      "The result of multiplication is: 42\n"
     ]
    }
   ],
   "execution_count": 9
  },
  {
   "cell_type": "markdown",
   "id": "cbdc24fd",
   "metadata": {},
   "source": [
    "## Standardwerte für Parameter\n",
    "\n",
    "Man kann in Python Standardwerte (Default-Werte) für Parameter festlegen. Diese Werte werden verwendet, wenn beim Aufruf der Funktion keine Argumente übergeben werden."
   ]
  },
  {
   "cell_type": "code",
   "execution_count": 15,
   "id": "fb4521d7",
   "metadata": {},
   "outputs": [],
   "source": [
    "def greeting(name=\"Guest\"):\n",
    "    print(f\"Hello {name}, welcome!\")"
   ]
  },
  {
   "cell_type": "code",
   "execution_count": 17,
   "id": "86719169",
   "metadata": {},
   "outputs": [
    {
     "name": "stdout",
     "output_type": "stream",
     "text": [
      "Hello Guest, welcome!\n",
      "Hello Bill, welcome!\n"
     ]
    }
   ],
   "source": [
    "greeting()\n",
    "greeting('Bill')"
   ]
  },
  {
   "cell_type": "markdown",
   "id": "63ff8eeb",
   "metadata": {},
   "source": [
    "## Funktionen mit variabler Anzahl an Argumenten\n",
    "\n",
    "Manchmal weiß man nicht genau, wie viele Argumente an eine Funktion übergeben werden. Dafür verwendet man den Operator `*`, um eine beliebige Anzahl von Argumenten zu akzeptieren."
   ]
  },
  {
   "cell_type": "code",
   "id": "a45608c1",
   "metadata": {
    "ExecuteTime": {
     "end_time": "2024-10-10T14:54:24.567938Z",
     "start_time": "2024-10-10T14:54:24.565654Z"
    }
   },
   "source": [
    "def add_all(*numbers):\n",
    "    total = 0\n",
    "    for number in numbers:\n",
    "        total += number\n",
    "    return total"
   ],
   "outputs": [],
   "execution_count": 10
  },
  {
   "cell_type": "code",
   "id": "5cb24667",
   "metadata": {
    "ExecuteTime": {
     "end_time": "2024-10-10T14:54:26.443263Z",
     "start_time": "2024-10-10T14:54:26.440556Z"
    }
   },
   "source": [
    "result = add_all(1, 2, 3, 4, 5)\n",
    "print(f\"The sum of all numbers is: {result}\")"
   ],
   "outputs": [
    {
     "name": "stdout",
     "output_type": "stream",
     "text": [
      "The sum of all numbers is: 15\n"
     ]
    }
   ],
   "execution_count": 11
  },
  {
   "cell_type": "markdown",
   "id": "d5159eb4",
   "metadata": {},
   "source": [
    "## Funktionen und Scope (Gültigkeitsbereich)\n",
    "\n",
    "Variablen, die innerhalb einer Funktion definiert sind, haben nur in dieser Funktion Gültigkeit. Man spricht hier von lokalem Scope."
   ]
  },
  {
   "cell_type": "code",
   "id": "ae484762",
   "metadata": {
    "ExecuteTime": {
     "end_time": "2024-10-10T14:55:36.743468Z",
     "start_time": "2024-10-10T14:55:36.741176Z"
    }
   },
   "source": [
    "def test_scope():\n",
    "    local_variable = \"I exist only inside the function\"\n",
    "    print(local_variable)\n",
    "\n",
    "test_scope()    "
   ],
   "outputs": [
    {
     "name": "stdout",
     "output_type": "stream",
     "text": [
      "I exist only inside the function\n",
      "asd\n"
     ]
    }
   ],
   "execution_count": 18
  }
 ],
 "metadata": {
  "kernelspec": {
   "display_name": "Python 3 (ipykernel)",
   "language": "python",
   "name": "python3"
  },
  "language_info": {
   "codemirror_mode": {
    "name": "ipython",
    "version": 3
   },
   "file_extension": ".py",
   "mimetype": "text/x-python",
   "name": "python",
   "nbconvert_exporter": "python",
   "pygments_lexer": "ipython3",
   "version": "3.11.5"
  }
 },
 "nbformat": 4,
 "nbformat_minor": 5
}
