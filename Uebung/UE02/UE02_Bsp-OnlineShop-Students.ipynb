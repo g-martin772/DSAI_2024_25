{
 "cells": [
  {
   "cell_type": "markdown",
   "id": "2a97cea1",
   "metadata": {},
   "source": [
    "                ## Berechnung der Versandkosten\n",
    "\n",
    "Sie wurden mit der Umsetzung eines Online-Shops betraut. In der Variable `subtotal` (Zwischensumme) ist die Gesamtsumme aller gekauften Artikel gespeichert. Die Versandkosten betragen **7,90 Euro**. Ab einem Einkaufswert von **mindestens 50 Euro** entfallen die Versandkosten.\n",
    "\n",
    "Schreiben Sie ein Programm, das die Versandkosten zum Warenpreis hinzufügt und den (neuen) Gesamtpreis berechnet und in weiterer Folge ausgibt. Zusätzlich soll das Programm, falls zutreffend, anzeigen, wie viel Geld noch ausgegeben werden muss, um eine versandkostenfreie Lieferung zu erhalten.\n",
    "\n",
    "**Hinweis**: Die Funktion `round()` kann mit einem zweiten Parameter verwendet werden, um die Anzahl der Dezimalstellen festzulegen. Zum Beispiel ergibt `round(1.2934, 2)` den Wert 1,29. Dies ist bei der Ausgabe von Geldbeträgen hilfreich.\n",
    "\n",
    "**Beispielausgaben**:\n",
    "- Wenn `subtotal < 50` (z.B. 45.50€): *Wenn Sie weitere Waren im Wert von 4.5 Euro einkaufen, erfolgt der Versand kostenfrei. Gesamtpreis: 53.4 Euro*\n",
    "- Wenn `subtotal >= 50` (z.B. 52€): *Gesamtpreis: 52 Euro* "
   ]
  },
  {
   "cell_type": "code",
   "id": "96b7cb0f",
   "metadata": {
    "ExecuteTime": {
     "end_time": "2024-09-26T15:27:28.703539Z",
     "start_time": "2024-09-26T15:27:28.700306Z"
    }
   },
   "source": [
    "def calculate_shipping(subtotal):\n",
    "    if subtotal < 50:\n",
    "        print(f\"Wenn Sie weitere Waren im Wert von {round(50-subtotal, 2)} Euro einkaufen, erfolgt der Versand kostenfrei. Gesamtpreis: {round(subtotal+7.9, 2)} Euro\")\n",
    "    else:\n",
    "        print(f\"Gesamtpreis: {round(subtotal, 2)} Euro\")"
   ],
   "outputs": [],
   "execution_count": 2
  },
  {
   "metadata": {
    "ExecuteTime": {
     "end_time": "2024-09-26T15:44:02.416947Z",
     "start_time": "2024-09-26T15:44:02.412793Z"
    }
   },
   "cell_type": "code",
   "source": [
    "for price in [21.21, 9.99, 45.50, 52]:\n",
    "    calculate_shipping(price)   "
   ],
   "id": "9d5b95aa796f659e",
   "outputs": [
    {
     "name": "stdout",
     "output_type": "stream",
     "text": [
      "Wenn Sie weitere Waren im Wert von 28.79 Euro einkaufen, erfolgt der Versand kostenfrei. Gesamtpreis: 29.11 Euro\n",
      "Wenn Sie weitere Waren im Wert von 40.01 Euro einkaufen, erfolgt der Versand kostenfrei. Gesamtpreis: 17.89 Euro\n",
      "Wenn Sie weitere Waren im Wert von 4.5 Euro einkaufen, erfolgt der Versand kostenfrei. Gesamtpreis: 53.4 Euro\n",
      "Gesamtpreis: 52 Euro\n"
     ]
    }
   ],
   "execution_count": 6
  }
 ],
 "metadata": {
  "kernelspec": {
   "display_name": "Python 3 (ipykernel)",
   "language": "python",
   "name": "python3"
  },
  "language_info": {
   "codemirror_mode": {
    "name": "ipython",
    "version": 3
   },
   "file_extension": ".py",
   "mimetype": "text/x-python",
   "name": "python",
   "nbconvert_exporter": "python",
   "pygments_lexer": "ipython3",
   "version": "3.11.5"
  }
 },
 "nbformat": 4,
 "nbformat_minor": 5
}
