{
 "cells": [
  {
   "cell_type": "markdown",
   "id": "ec9c8e46",
   "metadata": {},
   "source": [
    "# UE02 Python Einführung I - Aufgaben\n",
    "Arbeiten Sie nachfolgenden Aufgabenstellungen durch und geben Sie das Notebook via Repo (im entsprechenden Ordner) ab."
   ]
  },
  {
   "cell_type": "markdown",
   "id": "05bf5963-55d5-48f3-a31b-9044083d19f7",
   "metadata": {},
   "source": [
    "## Variablen, Strings und String-Operationen\n",
    "### Task 2.1\n",
    "Macht es einen Unterschied, ob man einfache oder doppelte Anführungsstriche verwendet? Erzeugen Sie mit <code>print(...)</code> folgende Ausgabe : **Now, I'm able to use 'print'!**\n",
    "\n",
    "Ja"
   ]
  },
  {
   "cell_type": "code",
   "id": "8f87a510-77ee-4743-8e5d-f1e067dbdbe4",
   "metadata": {
    "tags": [],
    "ExecuteTime": {
     "end_time": "2024-09-19T15:02:30.663433Z",
     "start_time": "2024-09-19T15:02:30.661269Z"
    }
   },
   "source": "print(\"ow, I'm able to use 'print'!\")",
   "outputs": [
    {
     "name": "stdout",
     "output_type": "stream",
     "text": [
      "ow, I'm able to use 'print'!\n"
     ]
    }
   ],
   "execution_count": 2
  },
  {
   "cell_type": "markdown",
   "id": "c8133d3d",
   "metadata": {},
   "source": [
    "### Task 2.2\n",
    "Definiere drei Variablen, die deinen Namen, dein Alter und deinen Lieblingssport speichern. Gib dann alle Variablen in einer einzigen `print()`-Anweisung aus. gesuchtes Ergebnis:\n",
    "\n",
    "```python\n",
    "Name: Joe, Alter: 22, Sport: Tennis\n",
    "```"
   ]
  },
  {
   "cell_type": "code",
   "id": "bcfcb3c2",
   "metadata": {
    "tags": [],
    "ExecuteTime": {
     "end_time": "2024-09-19T15:03:20.803651Z",
     "start_time": "2024-09-19T15:03:20.800852Z"
    }
   },
   "source": [
    "name = \"Gabriel\"\n",
    "age = 17\n",
    "sport = \"Football\"\n",
    "print(f\"Name: {name}, Alter: {age}, Sport: {sport}\")"
   ],
   "outputs": [
    {
     "name": "stdout",
     "output_type": "stream",
     "text": [
      "Name: Gabriel, Alter: 17, Sport: Football\n"
     ]
    }
   ],
   "execution_count": 3
  },
  {
   "cell_type": "markdown",
   "id": "b463c29c-68d8-4d5f-b2d2-670261de0240",
   "metadata": {},
   "source": [
    "### Task 2.3\n",
    "Nehmen Sie https://docs.python.org/3.8/tutorial/introduction.html#strings durch, und zwar ab \"*Strings can be indexed...*\". Als Bearbeitungsgrundlage dient der Text in <code>show</code>:\n",
    "1. Geben Sie den zweiten Buchstaben der Zeichenkette aus\n",
    "2. Geben Sie das Wort **eating** aus\n",
    "3. Geben Sie alles nach **Software** aus\n",
    "4. Geben Sie alles vor **the** aus\n",
    "5. Geben Sie die letzten 3 Buchstaben der Zeichenkette aus"
   ]
  },
  {
   "cell_type": "code",
   "id": "4e41acec-ba44-498c-badf-d35d1ff636d1",
   "metadata": {
    "tags": [],
    "ExecuteTime": {
     "end_time": "2024-09-19T15:05:44.499890Z",
     "start_time": "2024-09-19T15:05:44.497217Z"
    }
   },
   "source": [
    "show = \"Software is eating the world!\"\n",
    "\n",
    "print(show[1])\n",
    "\n",
    "words = show.split(\" \")\n",
    "print(words[2])\n",
    "\n",
    "print(show[:18])\n",
    "\n",
    "\n",
    "        print(show[len(show)-3:])"
   ],
   "outputs": [
    {
     "name": "stdout",
     "output_type": "stream",
     "text": [
      "o\n",
      "eating\n",
      "Software is eating\n",
      "ld!\n"
     ]
    }
   ],
   "execution_count": 15
  },
  {
   "cell_type": "markdown",
   "id": "8008b946",
   "metadata": {},
   "source": [
    "## Mathematische Operationen\n",
    "### Task 2.4\n",
    "Berechne den Umfang eines Rechtecks. Speichere die Länge und Breite in zwei Variablen und berechne dann den Umfang. Gib das Ergebnis aus. Gesuchtes Ergebnis; wobei für den Umfang beliebige werte gewählt werden können:\n",
    "````python\n",
    "Der Umfang des Rechtecks beträgt: 30\n",
    "````"
   ]
  },
  {
   "cell_type": "code",
   "id": "7e7aca2e",
   "metadata": {
    "tags": [],
    "ExecuteTime": {
     "end_time": "2024-09-19T15:07:02.938003Z",
     "start_time": "2024-09-19T15:07:02.934264Z"
    }
   },
   "source": [
    "width = 10\n",
    "height = 5\n",
    "\n",
    "circumference = 2 * (width + height)\n",
    "\n",
    "print(f\"Der Umfang des Rechtecks beträgt: {circumference}\")"
   ],
   "outputs": [
    {
     "name": "stdout",
     "output_type": "stream",
     "text": [
      "Der Umfang des Rechtecks beträgt: 30\n"
     ]
    }
   ],
   "execution_count": 17
  },
  {
   "cell_type": "markdown",
   "id": "41405e5c",
   "metadata": {},
   "source": [
    "### Task 2.5"
   ]
  },
  {
   "cell_type": "markdown",
   "id": "40a2051c",
   "metadata": {},
   "source": [
    "Schreibe jenen Code, der die Quadrate von drei Zahlen (siehe `a`, `b` und `c`) errechnet und in `sum_of_squares` speichert. Exemplarisches Ergebnis:\n",
    "```python\n",
    "Die Summe der Quadrate von 2, 3 und 4 beträgt: 29\n",
    "```"
   ]
  },
  {
   "cell_type": "code",
   "id": "49c703d0",
   "metadata": {
    "tags": [],
    "ExecuteTime": {
     "end_time": "2024-09-19T15:09:03.657477Z",
     "start_time": "2024-09-19T15:09:03.654270Z"
    }
   },
   "source": [
    "a = 2\n",
    "b = 3\n",
    "c = 4\n",
    "\n",
    "sum_of_squares = a**2 + b**2 + c**2\n",
    "\n",
    "print(f\"Die Summe der Quadrate von {a}, {b} und {c} beträgt: {sum_of_squares}\")"
   ],
   "outputs": [
    {
     "name": "stdout",
     "output_type": "stream",
     "text": [
      "Die Summe der Quadrate von 2, 3 und 4 beträgt: 29\n"
     ]
    }
   ],
   "execution_count": 18
  },
  {
   "cell_type": "markdown",
   "id": "51d8ba58",
   "metadata": {},
   "source": [
    "## Control Flow - Conditional Statements\n",
    "### Task 2.6"
   ]
  },
  {
   "cell_type": "markdown",
   "id": "62517622",
   "metadata": {},
   "source": [
    "Schreibe ein Programm, das überprüft, ob eine Zahl gerade oder ungerade ist. Verwende eine If-Bedingung, um die Ausgabe entsprechend zu gestalten."
   ]
  },
  {
   "cell_type": "code",
   "id": "c73587e8",
   "metadata": {
    "ExecuteTime": {
     "end_time": "2024-09-19T15:09:32.410164Z",
     "start_time": "2024-09-19T15:09:32.407116Z"
    }
   },
   "source": [
    "value = 13\n",
    "\n",
    "if value % 2 == 0:\n",
    "    print(f\"{value} ist gerade\")\n",
    "else:\n",
    "    print(f\"{value} ist ungerade\")"
   ],
   "outputs": [
    {
     "name": "stdout",
     "output_type": "stream",
     "text": [
      "13 ist ungerade\n"
     ]
    }
   ],
   "execution_count": 19
  },
  {
   "cell_type": "markdown",
   "id": "95b28a4d",
   "metadata": {},
   "source": [
    "### Task 2.7\n",
    "Schreibe ein Programm, das überprüft, ob eine gegebene Zahl positiv, negativ oder null ist."
   ]
  },
  {
   "cell_type": "code",
   "id": "9a4096da",
   "metadata": {
    "ExecuteTime": {
     "end_time": "2024-09-19T15:10:28.705836Z",
     "start_time": "2024-09-19T15:10:28.703553Z"
    }
   },
   "source": [
    "value = -13\n",
    "\n",
    "if value > 0:\n",
    "    print(f\"{value} ist positiv\")\n",
    "elif value < 0:\n",
    "    print(f\"{value} ist negativ\")\n",
    "else:\n",
    "    print(f\"{value} ist null\")"
   ],
   "outputs": [
    {
     "name": "stdout",
     "output_type": "stream",
     "text": [
      "-13 ist negativ\n"
     ]
    }
   ],
   "execution_count": 20
  },
  {
   "cell_type": "markdown",
   "id": "9bad5124",
   "metadata": {},
   "source": [
    "### Task 2.8"
   ]
  },
  {
   "cell_type": "markdown",
   "id": "872afc50",
   "metadata": {},
   "source": [
    "Schreibe jenen Code, der den Benutzer nach zwei Zahlen fragt und überprüft, ob die erste Zahl ein Vielfaches der zweiten ist. **Hinweise**: \n",
    "- Der Modulo-Operator is your friend!\n",
    "- Für User-Eingaben braucht es `input`"
   ]
  },
  {
   "cell_type": "code",
   "id": "2c3d1596",
   "metadata": {
    "ExecuteTime": {
     "end_time": "2024-09-19T15:11:54.243705Z",
     "start_time": "2024-09-19T15:11:51.835090Z"
    }
   },
   "source": [
    "number1 = int(input(\"Geben Sie die erste Zahl ein: \"))\n",
    "number2 = int(input(\"Geben Sie die zweite Zahl ein: \"))\n",
    "\n",
    "if number1 % number2 == 0:\n",
    "    print(f\"{number1} ist ein Vielfaches von {number2}\")\n",
    "else:\n",
    "    print(f\"{number1} ist kein Vielfaches von {number2}\")"
   ],
   "outputs": [
    {
     "name": "stdout",
     "output_type": "stream",
     "text": [
      "8 ist ein Vielfaches von 4\n"
     ]
    }
   ],
   "execution_count": 22
  },
  {
   "cell_type": "markdown",
   "id": "39b7abfc",
   "metadata": {},
   "source": [
    "## Looping / Iterators\n",
    "### Task 2.9\n",
    "Gebe die Zahlen von 1 bis 10 mit Hilfe einer Iteration aus. **Hinweis**: `range` https://docs.python.org/2/library/functions.html#range is your friend!"
   ]
  },
  {
   "cell_type": "code",
   "id": "f7732713",
   "metadata": {
    "tags": [],
    "ExecuteTime": {
     "end_time": "2024-09-19T15:12:20.345834Z",
     "start_time": "2024-09-19T15:12:20.342942Z"
    }
   },
   "source": [
    "for i in range(1, 11):\n",
    "    print(i)"
   ],
   "outputs": [
    {
     "name": "stdout",
     "output_type": "stream",
     "text": [
      "1\n",
      "2\n",
      "3\n",
      "4\n",
      "5\n",
      "6\n",
      "7\n",
      "8\n",
      "9\n",
      "10\n"
     ]
    }
   ],
   "execution_count": 23
  },
  {
   "cell_type": "markdown",
   "id": "36892dbe",
   "metadata": {},
   "source": [
    "### Task 2.10\n",
    "Implementiere eine Schleife, die die Summe der Zahlen von 1 bis 100 berechnet."
   ]
  },
  {
   "cell_type": "code",
   "id": "b98f1240",
   "metadata": {
    "ExecuteTime": {
     "end_time": "2024-09-19T15:12:34.066628Z",
     "start_time": "2024-09-19T15:12:34.063528Z"
    }
   },
   "source": [
    "sum = 0\n",
    "for i in range(1, 101):\n",
    "    sum += i\n",
    "print(sum)"
   ],
   "outputs": [
    {
     "name": "stdout",
     "output_type": "stream",
     "text": [
      "5050\n"
     ]
    }
   ],
   "execution_count": 24
  },
  {
   "cell_type": "markdown",
   "id": "2cfde69a",
   "metadata": {},
   "source": [
    "## Lists"
   ]
  },
  {
   "cell_type": "markdown",
   "id": "8a4e35ef",
   "metadata": {},
   "source": [
    "### Task 2.11\n",
    "Erstelle eine Liste mit den Zahlen 1 bis 5 und gib die Liste aus."
   ]
  },
  {
   "cell_type": "code",
   "id": "f46e9472",
   "metadata": {
    "tags": [],
    "ExecuteTime": {
     "end_time": "2024-09-19T15:12:54.494037Z",
     "start_time": "2024-09-19T15:12:54.491382Z"
    }
   },
   "source": [
    "numbers = [1, 2, 3, 4, 5]\n",
    "print(numbers)"
   ],
   "outputs": [
    {
     "name": "stdout",
     "output_type": "stream",
     "text": [
      "[1, 2, 3, 4, 5]\n"
     ]
    }
   ],
   "execution_count": 25
  },
  {
   "cell_type": "markdown",
   "id": "86fd30f0",
   "metadata": {},
   "source": [
    "### Task 2.12 \n",
    "Füge ein neues Element zur Liste hinzu und gib die aktualisierte Liste aus."
   ]
  },
  {
   "cell_type": "code",
   "id": "7918b6ac",
   "metadata": {
    "tags": [],
    "ExecuteTime": {
     "end_time": "2024-09-19T15:13:04.081917Z",
     "start_time": "2024-09-19T15:13:04.079453Z"
    }
   },
   "source": [
    "numbers.append(6)\n",
    "print(numbers)"
   ],
   "outputs": [
    {
     "name": "stdout",
     "output_type": "stream",
     "text": [
      "[1, 2, 3, 4, 5, 6]\n"
     ]
    }
   ],
   "execution_count": 26
  },
  {
   "cell_type": "markdown",
   "id": "7407f8a8-9d31-4017-93f7-d8624fd99670",
   "metadata": {},
   "source": [
    "### Task 2.13 \n",
    "Lösche den Listeneintrag \"Sue\" durch Angabe des Indexes und entferne den Eintrag \"Kim\" anhand seines Wertes."
   ]
  },
  {
   "cell_type": "code",
   "id": "e007d200-f9cb-44c1-b51f-b47252001e2f",
   "metadata": {
    "tags": [],
    "ExecuteTime": {
     "end_time": "2024-09-19T15:13:31.759189Z",
     "start_time": "2024-09-19T15:13:31.756249Z"
    }
   },
   "source": [
    "names = [\"Max\", \"Sue\", \"Kim\", \"Joe\"]\n",
    "del names[1]\n",
    "names.remove(\"Kim\")\n",
    "\n",
    "print(names)"
   ],
   "outputs": [
    {
     "name": "stdout",
     "output_type": "stream",
     "text": [
      "['Max', 'Joe']\n"
     ]
    }
   ],
   "execution_count": 28
  },
  {
   "cell_type": "markdown",
   "id": "f4f54e33",
   "metadata": {},
   "source": [
    "### Task 2.14\n",
    "Iterieren über die Liste `data` und fügen Sie hierbei alle geraden Einträge der neu zu erstellenden Liste `even_data` und alle ungeraden der Liste `odd_data` hinzu."
   ]
  },
  {
   "cell_type": "code",
   "id": "f7be996a-7f5a-4454-bfbd-14a2e64768ac",
   "metadata": {
    "tags": [],
    "ExecuteTime": {
     "end_time": "2024-09-19T15:13:55.089519Z",
     "start_time": "2024-09-19T15:13:55.086735Z"
    }
   },
   "source": [
    "data = [1,2,3,4,5,6,7,8,9,10]\n",
    "\n",
    "even_data = []\n",
    "odd_data = []\n",
    "\n",
    "for i in data:\n",
    "    if i % 2 == 0:\n",
    "        even_data.append(i)\n",
    "    else:\n",
    "        odd_data.append(i)\n",
    "        \n",
    "print(even_data)\n",
    "print(odd_data)"
   ],
   "outputs": [
    {
     "name": "stdout",
     "output_type": "stream",
     "text": [
      "[2, 4, 6, 8, 10]\n",
      "[1, 3, 5, 7, 9]\n"
     ]
    }
   ],
   "execution_count": 29
  },
  {
   "cell_type": "markdown",
   "id": "d0bfe169",
   "metadata": {},
   "source": [
    "## Dictionaries\n",
    "### Task 2.15\n",
    "Erstelle das Dictionary `people`, das die Namen (=Key) und Alter (=Value) von drei Personen speichert. Gib das Dictionary aus. Beispielhaftes Ergebnis:\n",
    "````python\n",
    "{'Max': 22, 'Anna': 25, 'Tom': 30}\n",
    "````"
   ]
  },
  {
   "metadata": {
    "ExecuteTime": {
     "end_time": "2024-09-19T15:14:44.185305Z",
     "start_time": "2024-09-19T15:14:44.182874Z"
    }
   },
   "cell_type": "code",
   "source": [
    "people = {\n",
    "    \"Max\": 22,\n",
    "    \"Anna\": 25,\n",
    "    \"Tom\": 30\n",
    "}\n",
    "\n",
    "print(people)"
   ],
   "id": "60303af4a58ba8d3",
   "outputs": [
    {
     "name": "stdout",
     "output_type": "stream",
     "text": [
      "{'Max': 22, 'Anna': 25, 'Tom': 30}\n"
     ]
    }
   ],
   "execution_count": 30
  },
  {
   "cell_type": "markdown",
   "id": "9b697a61",
   "metadata": {},
   "source": [
    "### Task 2.16\n",
    "Füge eine neue Person zum Dictionary hinzu und gib das aktualisierte Dictionary aus."
   ]
  },
  {
   "metadata": {
    "ExecuteTime": {
     "end_time": "2024-09-19T15:15:04.403518Z",
     "start_time": "2024-09-19T15:15:04.400762Z"
    }
   },
   "cell_type": "code",
   "source": [
    "people[\"Joe\"] = 35\n",
    "\n",
    "print(people)"
   ],
   "id": "974d919bff68c64e",
   "outputs": [
    {
     "name": "stdout",
     "output_type": "stream",
     "text": [
      "{'Max': 22, 'Anna': 25, 'Tom': 30, 'Joe': 35}\n"
     ]
    }
   ],
   "execution_count": 32
  },
  {
   "cell_type": "markdown",
   "id": "ce7165ac",
   "metadata": {},
   "source": [
    "### Task 2.17"
   ]
  },
  {
   "cell_type": "markdown",
   "id": "586b884b",
   "metadata": {},
   "source": [
    "Grundlage bildet wiederum `people`: Gesucht ist diese Ausgabe:\n",
    "````python\n",
    "Max ist 22 Jahre alt\n",
    "Anna ist 25 Jahre alt\n",
    "Tom ist 30 Jahre alt\n",
    "````"
   ]
  },
  {
   "metadata": {
    "ExecuteTime": {
     "end_time": "2024-09-19T15:15:24.303115Z",
     "start_time": "2024-09-19T15:15:24.299411Z"
    }
   },
   "cell_type": "code",
   "source": [
    "for name, age in people.items():\n",
    "    print(f\"{name} ist {age} Jahre alt\")"
   ],
   "id": "b681cb8b21b1c6be",
   "outputs": [
    {
     "name": "stdout",
     "output_type": "stream",
     "text": [
      "Max ist 22 Jahre alt\n",
      "Anna ist 25 Jahre alt\n",
      "Tom ist 30 Jahre alt\n",
      "Joe ist 35 Jahre alt\n"
     ]
    }
   ],
   "execution_count": 33
  }
 ],
 "metadata": {
  "kernelspec": {
   "display_name": "Python 3 (ipykernel)",
   "language": "python",
   "name": "python3"
  },
  "language_info": {
   "codemirror_mode": {
    "name": "ipython",
    "version": 3
   },
   "file_extension": ".py",
   "mimetype": "text/x-python",
   "name": "python",
   "nbconvert_exporter": "python",
   "pygments_lexer": "ipython3",
   "version": "3.11.5"
  }
 },
 "nbformat": 4,
 "nbformat_minor": 5
}
